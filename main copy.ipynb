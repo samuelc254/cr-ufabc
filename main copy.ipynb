{
 "cells": [
  {
   "cell_type": "code",
   "execution_count": 6,
   "id": "ffd2339a",
   "metadata": {},
   "outputs": [],
   "source": [
    "import pandas as pd\n",
    "import networkx as nx\n",
    "import matplotlib.pyplot as plt"
   ]
  },
  {
   "cell_type": "code",
   "execution_count": 7,
   "id": "0a040e0d",
   "metadata": {},
   "outputs": [],
   "source": [
    "# Carrega arquivo parquet\n",
    "df = pd.read_parquet(\"DB/List-dependencies.parquet\")"
   ]
  },
  {
   "cell_type": "code",
   "execution_count": 3,
   "id": "38732111",
   "metadata": {},
   "outputs": [],
   "source": [
    "dfs = {}\n",
    "graphs = {}\n",
    "dfs[\"Geral\"] = df\n",
    "graphs[\"Geral\"] = nx.from_pandas_edgelist(df, source=\"Project Name\", target=\"Dependency Name\", create_using=nx.DiGraph())\n",
    "for platform in df[\"Platform\"].unique():\n",
    "    # cria um dataframe para cada plataforma \"df[\"Platform\"].unique()\" e adiciona a lista de dataframes ao dicionário \"dfs\"\n",
    "    dfs[platform] = df[df[\"Platform\"] == platform]\n",
    "\n",
    "    # Cria um grafo direcionado\n",
    "    graphs[platform] = nx.from_pandas_edgelist(dfs[platform], source=\"Project Name\", target=\"Dependency Name\", create_using=nx.DiGraph())"
   ]
  },
  {
   "cell_type": "code",
   "execution_count": null,
   "id": "de40525a",
   "metadata": {},
   "outputs": [
    {
     "name": "stdout",
     "output_type": "stream",
     "text": [
      "Salvando arquivos de dados temporários em: 'c:\\Users\\samuelcosta\\Documents\\cr-ufabc\\temp_parquet_data'\n",
      "Os relatórios finais serão salvos em: 'c:\\Users\\samuelcosta\\Documents\\cr-ufabc\\analise_grafos'\n",
      "19 arquivos de dados foram preparados.\n",
      "\n",
      "Iniciando análise com no máximo 8 processos paralelos...\n"
     ]
    },
    {
     "name": "stderr",
     "output_type": "stream",
     "text": [
      " 95%|█████████▍| 18/19 [46:58<07:58, 478.22s/it]"
     ]
    }
   ],
   "source": [
    "import pandas as pd\n",
    "import os\n",
    "import subprocess\n",
    "from tqdm import tqdm\n",
    "\n",
    "# --- 1. Preparação: Salvar DataFrames individuais ---\n",
    "\n",
    "# Carrega o DataFrame principal uma única vez\n",
    "df = pd.read_parquet(\"DB/List-dependencies.parquet\")\n",
    "\n",
    "# Define diretórios temporários e de saída\n",
    "temp_data_dir = \"temp_parquet_data\"\n",
    "output_dir = \"analise_grafos\"\n",
    "os.makedirs(temp_data_dir, exist_ok=True)\n",
    "os.makedirs(output_dir, exist_ok=True)\n",
    "\n",
    "print(f\"Salvando arquivos de dados temporários em: '{os.path.abspath(temp_data_dir)}'\")\n",
    "print(f\"Os relatórios finais serão salvos em: '{os.path.abspath(output_dir)}'\")\n",
    "\n",
    "# Cria uma lista de todas as plataformas para processar\n",
    "platforms_to_process = [\"Geral\"] + list(df[\"Platform\"].unique())\n",
    "\n",
    "# Salva cada fatia do DataFrame como um arquivo Parquet separado\n",
    "tasks_to_run = []\n",
    "for name in platforms_to_process:\n",
    "    file_path = os.path.join(temp_data_dir, f\"{name}.parquet\")\n",
    "    if name == \"Geral\":\n",
    "        df.to_parquet(file_path)\n",
    "    else:\n",
    "        # Filtra e salva o DataFrame da plataforma\n",
    "        platform_df = df[df[\"Platform\"] == name]\n",
    "        platform_df.to_parquet(file_path)\n",
    "    \n",
    "    tasks_to_run.append({\n",
    "        \"name\": name,\n",
    "        \"path\": file_path\n",
    "    })\n",
    "\n",
    "print(f\"{len(tasks_to_run)} arquivos de dados foram preparados.\")\n",
    "\n",
    "\n",
    "# --- 2. Orquestração: Lançar Processos Analisadores ---\n",
    "\n",
    "# Limitar o número de processos simultâneos ainda é crucial\n",
    "MAX_PROCESSES = 12\n",
    "print(f\"\\nIniciando análise com no máximo {MAX_PROCESSES} processos paralelos...\")\n",
    "\n",
    "processes = []\n",
    "task_queue = list(tasks_to_run) # Fila de tarefas\n",
    "\n",
    "# Usamos a barra de progresso do TQDM\n",
    "with tqdm(total=len(task_queue)) as pbar:\n",
    "    while task_queue or processes:\n",
    "        # Lança novos processos se houver espaço e tarefas\n",
    "        while len(processes) < MAX_PROCESSES and task_queue:\n",
    "            task = task_queue.pop(0)\n",
    "            command = [\n",
    "                \"python\", \n",
    "                \"analyzer.py\", \n",
    "                task[\"path\"], \n",
    "                task[\"name\"], \n",
    "                output_dir\n",
    "            ]\n",
    "            # Inicia o processo sem bloquear e esconde a janela do console no Windows\n",
    "            proc = subprocess.Popen(command, stdout=subprocess.PIPE, stderr=subprocess.PIPE, creationflags=subprocess.CREATE_NO_WINDOW)\n",
    "            processes.append((proc, task[\"name\"]))\n",
    "\n",
    "        # Verifica os processos em execução\n",
    "        for proc, name in processes:\n",
    "            if proc.poll() is not None: # Processo terminou\n",
    "                stdout, stderr = proc.communicate()\n",
    "                if proc.returncode != 0:\n",
    "                    print(f\"\\nERRO no processo para '{name}':\")\n",
    "                    print(stderr.decode('utf-8', errors='ignore'))\n",
    "                else:\n",
    "                    # Opcional: imprimir a saída padrão para ver o progresso\n",
    "                    # print(stdout.decode('utf-8', errors='ignore'))\n",
    "                    pass\n",
    "                \n",
    "                processes.remove((proc, name))\n",
    "                pbar.update(1) # Atualiza a barra de progresso\n",
    "        \n",
    "        # Pequena pausa para não sobrecarregar a CPU com o loop de verificação\n",
    "        time.sleep(0.5)\n",
    "\n",
    "print(\"\\n--- Análise de todos os grafos concluída! ---\")\n",
    "# Opcional: Limpar os arquivos temporários\n",
    "# import shutil\n",
    "# shutil.rmtree(temp_data_dir)\n",
    "# print(\"Diretório de dados temporários removido.\")"
   ]
  }
 ],
 "metadata": {
  "kernelspec": {
   "display_name": "Python 3",
   "language": "python",
   "name": "python3"
  },
  "language_info": {
   "codemirror_mode": {
    "name": "ipython",
    "version": 3
   },
   "file_extension": ".py",
   "mimetype": "text/x-python",
   "name": "python",
   "nbconvert_exporter": "python",
   "pygments_lexer": "ipython3",
   "version": "3.12.9"
  }
 },
 "nbformat": 4,
 "nbformat_minor": 5
}
