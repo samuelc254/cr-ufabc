{
 "cells": [
  {
   "cell_type": "markdown",
   "id": "fd493380",
   "metadata": {},
   "source": [
    "# Convertendo a base de dados de CSV para Parquet\n",
    "\n",
    "- **Objetivo**: Converter um arquivo CSV para o formato Parquet, que é mais eficiente para armazenamento e consulta de grandes volumes de dados.\n",
    "\n",
    "- **Motivação**: Atualmente é praticamente impossível trabalhar com a base de dados bruta em CSV que tem mais de 20GB."
   ]
  },
  {
   "cell_type": "code",
   "execution_count": null,
   "id": "f7df97a2",
   "metadata": {},
   "outputs": [],
   "source": [
    "import pandas as pd\n",
    "\n",
    "# Carrega os dados do CSV (pode demorar alguns minutos)\n",
    "raw_data = pd.read_csv(\"DB/dependencies-1.6.0-2020-01-12.csv\", dtype={9: str})"
   ]
  },
  {
   "cell_type": "code",
   "execution_count": null,
   "id": "e6711da9",
   "metadata": {},
   "outputs": [],
   "source": [
    "# Salva os dados em Parquet (novamente, pode demorar alguns minutos)\n",
    "raw_data.to_parquet(\"DB/dependencies-1.6.0-2020-01-12.parquet\")"
   ]
  },
  {
   "cell_type": "code",
   "execution_count": null,
   "id": "14c70681",
   "metadata": {},
   "outputs": [],
   "source": [
    "pd.set_option(\"display.max_rows\", 50)\n",
    "display(raw_data)"
   ]
  },
  {
   "cell_type": "markdown",
   "id": "3146dee9",
   "metadata": {},
   "source": [
    "- Código direto caso preferir executar de uma vez:"
   ]
  },
  {
   "cell_type": "code",
   "execution_count": null,
   "id": "74a7131d",
   "metadata": {},
   "outputs": [],
   "source": [
    "import pandas as pd\n",
    "\n",
    "if input(\"Quer continuar? (s/n): \").strip().lower() == \"s\":\n",
    "    # Carrega os dados do CSV (pode demorar alguns minutos)\n",
    "    raw_data = pd.read_csv(\"DB/dependencies-1.6.0-2020-01-12.csv\", dtype={9: str})\n",
    "    # Salva os dados em Parquet (novamente, pode demorar alguns minutos)\n",
    "    raw_data.to_parquet(\"DB/dependencies-1.6.0-2020-01-12.parquet\")\n",
    "    display(raw_data)\n",
    "else:\n",
    "    print(\"Operação cancelada pelo usuário.\")"
   ]
  }
 ],
 "metadata": {
  "kernelspec": {
   "display_name": "Python 3",
   "language": "python",
   "name": "python3"
  },
  "language_info": {
   "codemirror_mode": {
    "name": "ipython",
    "version": 3
   },
   "file_extension": ".py",
   "mimetype": "text/x-python",
   "name": "python",
   "nbconvert_exporter": "python",
   "pygments_lexer": "ipython3",
   "version": "3.13.0"
  }
 },
 "nbformat": 4,
 "nbformat_minor": 5
}
