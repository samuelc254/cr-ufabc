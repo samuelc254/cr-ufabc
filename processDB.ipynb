{
 "cells": [
  {
   "cell_type": "markdown",
   "id": "fd493380",
   "metadata": {},
   "source": [
    "# Convertendo a base de dados de CSV para Parquet\n",
    "\n",
    "- **Objetivo**: Converter um arquivo CSV para o formato Parquet, que é mais eficiente para armazenamento e consulta de grandes volumes de dados.\n",
    "\n",
    "- **Motivação**: Atualmente é praticamente impossível trabalhar com a base de dados bruta em CSV que tem mais de 20GB."
   ]
  },
  {
   "cell_type": "code",
   "execution_count": null,
   "id": "f7df97a2",
   "metadata": {},
   "outputs": [],
   "source": [
    "import pandas as pd\n",
    "\n",
    "# Carrega os dados do CSV (pode demorar alguns minutos)\n",
    "raw_data = pd.read_csv(\"DB/dependencies-1.6.0-2020-01-12.csv\", dtype={9: str})"
   ]
  },
  {
   "cell_type": "code",
   "execution_count": null,
   "id": "e6711da9",
   "metadata": {},
   "outputs": [],
   "source": [
    "# Salva os dados em Parquet (novamente, pode demorar alguns minutos)\n",
    "raw_data.to_parquet(\"DB/dependencies-1.6.0-2020-01-12.parquet\")"
   ]
  },
  {
   "cell_type": "code",
   "execution_count": null,
   "id": "14c70681",
   "metadata": {},
   "outputs": [],
   "source": [
    "pd.set_option(\"display.max_rows\", 50)\n",
    "display(raw_data)"
   ]
  },
  {
   "cell_type": "markdown",
   "id": "1b5642a7",
   "metadata": {},
   "source": [
    "## Filtrando a base de dados\n",
    "- **Objetivo**: Filtrar a base de dados para manter apenas as versões mais recentes de cada dependência.\n",
    "\n",
    "- **Motivação**: A base de dados contém muitas versões antigas de dependências, o que torna a análise mais complexa e menos eficiente. Manter apenas as versões mais recentes facilita a análise e reduz o tamanho do arquivo."
   ]
  },
  {
   "cell_type": "code",
   "execution_count": null,
   "id": "49a72f71",
   "metadata": {},
   "outputs": [],
   "source": [
    "import pandas as pd\n",
    "from packaging import version\n",
    "import numpy as np\n",
    "\n",
    "# Carrega o arquivo Parquet\n",
    "df = pd.read_parquet(\"DB/dependencies-1.6.0-2020-01-12.parquet\")"
   ]
  },
  {
   "cell_type": "code",
   "execution_count": null,
   "id": "74a7131d",
   "metadata": {},
   "outputs": [],
   "source": [
    "# ESSA OPERAÇÃO DEMOROU 41 MINUTOS COM A SEGUINTE CONFIGURAÇÃO:\n",
    "# CPU Intel(R) Xeon(R) CPU E5-2680 v3 @ 2.50GHz\n",
    "# RAM 256 GB\n",
    "\n",
    "def parse_version_safe(version_str):\n",
    "    \"\"\"Converte string de versão para objeto Version do packaging\"\"\"\n",
    "    try:\n",
    "        # Remove prefixos comuns e limpa a string\n",
    "        clean_version = str(version_str).strip().lstrip('v')\n",
    "        # Remove sufixos como '+build' ou '-alpha'\n",
    "        clean_version = clean_version.split('+')[0].split('-')[0]\n",
    "        return version.Version(clean_version)\n",
    "    except:\n",
    "        # Para versões inválidas, retorna uma versão muito baixa\n",
    "        return version.Version(\"0.0.0\")\n",
    "\n",
    "# Aplica parsing de versão de forma vetorizada\n",
    "print(\"Parsing versions...\")\n",
    "df['version_obj'] = df['Version Number'].apply(parse_version_safe)\n",
    "\n",
    "# Agrupa por Project Name E Platform para encontrar versão máxima\n",
    "# (importante porque o mesmo projeto pode existir em plataformas diferentes)\n",
    "print(\"Finding latest versions...\")\n",
    "latest_versions = df.groupby(['Project Name', 'Platform'])['version_obj'].transform('max')\n",
    "\n",
    "# Filtra mantendo apenas as versões mais recentes\n",
    "print(\"Filtering dataframe...\")\n",
    "df_latest = df[df['version_obj'] == latest_versions].copy()\n",
    "\n",
    "# Remove coluna auxiliar para economizar memória\n",
    "df_latest.drop('version_obj', axis=1, inplace=True)\n",
    "\n",
    "print(f\"DataFrame original: {len(df):,} linhas\")\n",
    "print(f\"DataFrame filtrado: {len(df_latest):,} linhas\")\n",
    "print(f\"Redução: {((len(df) - len(df_latest)) / len(df) * 100):.1f}%\")\n",
    "\n",
    "# Verifica o resultado para o projeto git\n",
    "print(\"\\nExemplo - versões do git restantes:\")\n",
    "git_versions = df_latest[df_latest[\"Project Name\"] == \"git\"][\"Version Number\"].unique()\n",
    "print(f\"Git versions: {sorted(git_versions)}\")"
   ]
  },
  {
   "cell_type": "code",
   "execution_count": null,
   "id": "b6cc6282",
   "metadata": {},
   "outputs": [],
   "source": [
    "# Salva o DataFrame filtrado em Parquet\n",
    "df_latest.to_parquet(\"DB/dependencies-1.6.0-latest_versions.parquet\", index=False)"
   ]
  }
 ],
 "metadata": {
  "kernelspec": {
   "display_name": "Python 3",
   "language": "python",
   "name": "python3"
  },
  "language_info": {
   "codemirror_mode": {
    "name": "ipython",
    "version": 3
   },
   "file_extension": ".py",
   "mimetype": "text/x-python",
   "name": "python",
   "nbconvert_exporter": "python",
   "pygments_lexer": "ipython3",
   "version": "3.12.9"
  }
 },
 "nbformat": 4,
 "nbformat_minor": 5
}
