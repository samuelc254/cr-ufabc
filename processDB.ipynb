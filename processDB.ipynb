{
 "cells": [
  {
   "cell_type": "markdown",
   "id": "fd493380",
   "metadata": {},
   "source": [
    "# Convertendo a base de dados de CSV para Parquet\n",
    "\n",
    "- **Objetivo**: Converter um arquivo CSV para o formato Parquet, que é mais eficiente para armazenamento e consulta de grandes volumes de dados.\n",
    "\n",
    "- **Motivação**: Atualmente é praticamente impossível trabalhar com a base de dados bruta em CSV que tem mais de 20GB."
   ]
  },
  {
   "cell_type": "code",
   "execution_count": null,
   "id": "f7df97a2",
   "metadata": {},
   "outputs": [],
   "source": [
    "import pandas as pd\n",
    "\n",
    "# Carrega os dados do CSV (pode demorar alguns minutos)\n",
    "raw_data = pd.read_csv(\"DB/dependencies-1.6.0-2020-01-12.csv\", dtype={9: str})"
   ]
  },
  {
   "cell_type": "code",
   "execution_count": null,
   "id": "e6711da9",
   "metadata": {},
   "outputs": [],
   "source": [
    "# Salva os dados em Parquet (novamente, pode demorar alguns minutos)\n",
    "raw_data.to_parquet(\"DB/dependencies-1.6.0-2020-01-12.parquet\")"
   ]
  },
  {
   "cell_type": "code",
   "execution_count": null,
   "id": "14c70681",
   "metadata": {},
   "outputs": [],
   "source": [
    "pd.set_option(\"display.max_rows\", 50)\n",
    "display(raw_data)"
   ]
  },
  {
   "cell_type": "markdown",
   "id": "1b5642a7",
   "metadata": {},
   "source": [
    "## Filtrando a base de dados\n",
    "- **Objetivo**: Filtrar a base de dados para manter apenas as versões mais recentes de cada dependência.\n",
    "\n",
    "- **Motivação**: A base de dados contém muitas versões antigas de dependências, o que torna a análise mais complexa e menos eficiente. Manter apenas as versões mais recentes facilita a análise e reduz o tamanho do arquivo."
   ]
  },
  {
   "cell_type": "code",
   "execution_count": null,
   "id": "49a72f71",
   "metadata": {},
   "outputs": [],
   "source": [
    "import pandas as pd\n",
    "from packaging import version\n",
    "import numpy as np\n",
    "\n",
    "# Carrega o arquivo Parquet\n",
    "df = pd.read_parquet(\"DB/dependencies-1.6.0-2020-01-12.parquet\")"
   ]
  },
  {
   "cell_type": "code",
   "execution_count": null,
   "id": "74a7131d",
   "metadata": {},
   "outputs": [],
   "source": [
    "# ESSA OPERAÇÃO DEMOROU 41 MINUTOS COM A SEGUINTE CONFIGURAÇÃO:\n",
    "# CPU Intel(R) Xeon(R) CPU E5-2680 v3 @ 2.50GHz\n",
    "# RAM 256 GB\n",
    "\n",
    "def parse_version_safe(version_str):\n",
    "    \"\"\"Converte string de versão para objeto Version do packaging\"\"\"\n",
    "    try:\n",
    "        # Remove prefixos comuns e limpa a string\n",
    "        clean_version = str(version_str).strip().lstrip('v')\n",
    "        # Remove sufixos como '+build' ou '-alpha'\n",
    "        clean_version = clean_version.split('+')[0].split('-')[0]\n",
    "        return version.Version(clean_version)\n",
    "    except:\n",
    "        # Para versões inválidas, retorna uma versão muito baixa\n",
    "        return version.Version(\"0.0.0\")\n",
    "\n",
    "# Aplica parsing de versão de forma vetorizada\n",
    "print(\"Parsing versions...\")\n",
    "df['version_obj'] = df['Version Number'].apply(parse_version_safe)\n",
    "\n",
    "# Agrupa por Project Name E Platform para encontrar versão máxima\n",
    "# (importante porque o mesmo projeto pode existir em plataformas diferentes)\n",
    "print(\"Finding latest versions...\")\n",
    "latest_versions = df.groupby(['Project Name', 'Platform'])['version_obj'].transform('max')\n",
    "\n",
    "# Filtra mantendo apenas as versões mais recentes\n",
    "print(\"Filtering dataframe...\")\n",
    "df_latest = df[df['version_obj'] == latest_versions].copy()\n",
    "\n",
    "# Remove coluna auxiliar para economizar memória\n",
    "df_latest.drop('version_obj', axis=1, inplace=True)\n",
    "\n",
    "print(f\"DataFrame original: {len(df):,} linhas\")\n",
    "print(f\"DataFrame filtrado: {len(df_latest):,} linhas\")\n",
    "print(f\"Redução: {((len(df) - len(df_latest)) / len(df) * 100):.1f}%\")\n",
    "\n",
    "# Salva o DataFrame filtrado em Parquet\n",
    "df_latest.to_parquet(\"DB/dependencies-1.6.0-latest_versions.parquet\", index=False)"
   ]
  },
  {
   "cell_type": "markdown",
   "id": "c0da1ffc",
   "metadata": {},
   "source": [
    "- **Absolute latest version**: A versão mais recente de cada dependência independete da plataforma."
   ]
  },
  {
   "cell_type": "code",
   "execution_count": 4,
   "id": "d85177db",
   "metadata": {},
   "outputs": [],
   "source": [
    "import pandas as pd\n",
    "from packaging import version\n",
    "import numpy as np\n",
    "\n",
    "# Carrega o arquivo Parquet\n",
    "df = pd.read_parquet(\"DB/dependencies-1.6.0-latest_versions.parquet\")"
   ]
  },
  {
   "cell_type": "code",
   "execution_count": 6,
   "id": "9aa68152",
   "metadata": {},
   "outputs": [
    {
     "name": "stdout",
     "output_type": "stream",
     "text": [
      "Parsing versions...\n",
      "Finding absolute latest versions...\n",
      "Filtering to absolute latest versions...\n",
      "DataFrame original: 19,557,940 linhas\n",
      "DataFrame com versões absolutas mais recentes: 19,253,961 linhas\n",
      "Redução: 1.6%\n"
     ]
    }
   ],
   "source": [
    "# ESSA OPERAÇÃO DEMOROU 7 MINUTOS COM A SEGUINTE CONFIGURAÇÃO:\n",
    "# CPU Intel(R) Xeon(R) CPU E5-2680 v3 @ 2.50GHz\n",
    "# RAM 256 GB\n",
    "\n",
    "def parse_version_safe(version_str):\n",
    "    \"\"\"Converte string de versão para objeto Version do packaging\"\"\"\n",
    "    try:\n",
    "        # Remove prefixos comuns e limpa a string\n",
    "        clean_version = str(version_str).strip().lstrip('v')\n",
    "        # Remove sufixos como '+build' ou '-alpha'\n",
    "        clean_version = clean_version.split('+')[0].split('-')[0]\n",
    "        return version.Version(clean_version)\n",
    "    except:\n",
    "        # Para versões inválidas, retorna uma versão muito baixa\n",
    "        return version.Version(\"0.0.0\")\n",
    "\n",
    "# Aplica parsing de versão de forma vetorizada\n",
    "print(\"Parsing versions...\")\n",
    "df['version_obj'] = df['Version Number'].apply(parse_version_safe)\n",
    "\n",
    "# Encontra a versão ABSOLUTA mais recente para cada projeto (ignorando plataforma)\n",
    "print(\"Finding absolute latest versions...\")\n",
    "latest_versions = df.groupby('Project Name')['version_obj'].transform('max')\n",
    "\n",
    "# Filtra mantendo apenas as versões mais recentes absolutas\n",
    "print(\"Filtering to absolute latest versions...\")\n",
    "df_absolute_latest = df[df['version_obj'] == latest_versions].copy()\n",
    "\n",
    "# Remove coluna auxiliar\n",
    "df_absolute_latest.drop('version_obj', axis=1, inplace=True)\n",
    "\n",
    "print(f\"DataFrame original: {len(df):,} linhas\")\n",
    "print(f\"DataFrame com versões absolutas mais recentes: {len(df_absolute_latest):,} linhas\")\n",
    "print(f\"Redução: {((len(df) - len(df_absolute_latest)) / len(df) * 100):.1f}%\")\n",
    "\n",
    "# Salva o DataFrame filtrado em Parquet\n",
    "df_absolute_latest.to_parquet(\"DB/dependencies-1.6.0-absolute_latest_versions.parquet\", index=False)"
   ]
  },
  {
   "cell_type": "markdown",
   "id": "b8de972a",
   "metadata": {},
   "source": [
    "- **Filtro de informações não relevantes**: remove linhas de informações não relevantes."
   ]
  },
  {
   "cell_type": "code",
   "execution_count": 4,
   "id": "8ae718e8",
   "metadata": {},
   "outputs": [],
   "source": [
    "import pandas as pd\n",
    "\n",
    "# Carrega arquivo parquet\n",
    "df = pd.read_parquet(\"DB/dependencies-1.6.0-absolute_latest_versions.parquet\")\n",
    "# remove linhas com valores ausentes nas colunas \"Project Name\" e \"Dependency Name\"\n",
    "df.dropna(subset=[\"Project Name\", \"Dependency Name\"], inplace=True)\n",
    "# filtra linhas desnecessárias\n",
    "df = df[~df[\"Project Name\"].str.match(r\"^all-packages-\\d+.*\", na=False)]\n",
    "df = df[~df[\"Project Name\"].str.match(r\"^cool-\\d+.*\", na=False)]\n",
    "df = df[~df[\"Project Name\"].str.match(r\"^neat-\\d+.*\", na=False)]\n",
    "df = df[~df[\"Project Name\"].str.match(r\"^wowdude-\\d+.*\", na=False)]\n",
    "\n",
    "# Salva o DataFrame filtrado em Parquet\n",
    "df.to_parquet(\"DB/dependencies-1.6.0-clean.parquet\", index=False)"
   ]
  },
  {
   "cell_type": "code",
   "execution_count": 6,
   "id": "937f4b2d",
   "metadata": {},
   "outputs": [],
   "source": [
    "# remove as colunas mantendo apenas  \"Project Name\", \"Dependency Name\" e cria uma lista de dependências\n",
    "df = df[[\"Project Name\", \"Dependency Name\"]]\n",
    "# salva o DataFrame filtrado em Parquet\n",
    "df.to_parquet(\"DB/List-dependencies.parquet\", index=False)"
   ]
  },
  {
   "cell_type": "code",
   "execution_count": 8,
   "id": "b466c222",
   "metadata": {},
   "outputs": [],
   "source": [
    "df.to_csv(\"DB/List-dependencies.csv\", index=False)"
   ]
  },
  {
   "cell_type": "code",
   "execution_count": null,
   "id": "0b5c5bd8",
   "metadata": {},
   "outputs": [],
   "source": [
    "# Teste de filtro\n",
    "filtro = r\"^wowdude-\\d+.*\"\n",
    "display(df[df[\"Project Name\"].str.match(filtro, na=False)])\n",
    "display(df[df[\"Dependency Name\"].str.match(filtro, na=False)])"
   ]
  }
 ],
 "metadata": {
  "kernelspec": {
   "display_name": "Python 3",
   "language": "python",
   "name": "python3"
  },
  "language_info": {
   "codemirror_mode": {
    "name": "ipython",
    "version": 3
   },
   "file_extension": ".py",
   "mimetype": "text/x-python",
   "name": "python",
   "nbconvert_exporter": "python",
   "pygments_lexer": "ipython3",
   "version": "3.12.9"
  }
 },
 "nbformat": 4,
 "nbformat_minor": 5
}
